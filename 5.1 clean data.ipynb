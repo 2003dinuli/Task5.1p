{
 "cells": [
  {
   "cell_type": "code",
   "execution_count": 19,
   "id": "963851d9-172b-4a56-932e-0d1eedf46553",
   "metadata": {},
   "outputs": [
    {
     "name": "stdout",
     "output_type": "stream",
     "text": [
      "Before cleaning:\n",
      "             Timestamp  X-axis (xx)  Y-axis (yy)  Z-axis (zz)\n",
      "0  2024-08-28 00:39:15    -0.244141     0.854492    -0.244141\n",
      "1  2024-08-28 00:39:18          NaN          NaN    -0.183105\n",
      "2  2024-08-28 00:39:19          NaN     0.915527          NaN\n",
      "3  2024-08-28 00:39:20          NaN          NaN    -0.305176\n",
      "4  2024-08-28 00:39:21    -0.244141          NaN          NaN\n",
      "After cleaning:\n",
      "              Timestamp  X-axis (xx)  Y-axis (yy)  Z-axis (zz)\n",
      "0   2024-08-28 00:39:15    -0.244141     0.854492    -0.244141\n",
      "5   2024-08-28 00:39:24    -0.366211     0.854492    -0.244141\n",
      "6   2024-08-28 00:39:27    -0.244141     0.793457    -0.183105\n",
      "11  2024-08-28 00:39:40    -0.305176     0.732422    -0.183105\n",
      "16  2024-08-28 00:39:54    -0.244141     0.793457    -0.122070\n"
     ]
    }
   ],
   "source": [
    "import pandas as pd\n",
    "import numpy as np\n",
    "\n",
    "# Load the CSV file into a DataFrame\n",
    "csv_file = \"gyroscope_data.csv\"\n",
    "df = pd.read_csv(csv_file)\n",
    "\n",
    "# Display the first few rows before cleaning\n",
    "print(\"Before cleaning:\")\n",
    "print(df.head())\n",
    "\n",
    "# Remove rows where any of the values are non-numeric or empty\n",
    "# Convert columns to numeric, forcing errors to NaN\n",
    "df['X-axis (xx)'] = pd.to_numeric(df['X-axis (xx)'], errors='coerce')\n",
    "df['Y-axis (yy)'] = pd.to_numeric(df['Y-axis (yy)'], errors='coerce')\n",
    "df['Z-axis (zz)'] = pd.to_numeric(df['Z-axis (zz)'], errors='coerce')\n",
    "\n",
    "# Drop rows with NaN values in any column\n",
    "df_cleaned = df.dropna()\n",
    "\n",
    "# Save the cleaned DataFrame back to a CSV file\n",
    "cleaned_csv_file = \"gyroscope_data_cleaned.csv\"\n",
    "df_cleaned.to_csv(cleaned_csv_file, index=False)\n",
    "\n",
    "# Display the first few rows after cleaning\n",
    "print(\"After cleaning:\")\n",
    "print(df_cleaned.head())\n"
   ]
  },
  {
   "cell_type": "code",
   "execution_count": null,
   "id": "1b81526f-8ee4-4625-a2bb-b8b471a713af",
   "metadata": {},
   "outputs": [],
   "source": []
  }
 ],
 "metadata": {
  "kernelspec": {
   "display_name": "Python 3 (ipykernel)",
   "language": "python",
   "name": "python3"
  },
  "language_info": {
   "codemirror_mode": {
    "name": "ipython",
    "version": 3
   },
   "file_extension": ".py",
   "mimetype": "text/x-python",
   "name": "python",
   "nbconvert_exporter": "python",
   "pygments_lexer": "ipython3",
   "version": "3.11.7"
  }
 },
 "nbformat": 4,
 "nbformat_minor": 5
}
